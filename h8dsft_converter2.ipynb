{
 "cells": [
  {
   "cell_type": "markdown",
   "metadata": {},
   "source": [
    "# Non Graded Challenge 2\n",
    "\n",
    "Week 1 Day 3 - Function\n",
    "<br>\n",
    "Nama: Karina Utomo\n",
    "<br>\n",
    "Hacktiv8 Full Time Data Science Batch 003"
   ]
  },
  {
   "cell_type": "markdown",
   "metadata": {},
   "source": [
    "# Assignment Instructions\n",
    "\n",
    "1. Buatlah sebuah function yang dapat mengkonversi suhu dari kelvin ke celcius, dan celcius ke kelvin.\n",
    "2. Buatlah sebuah function yang dapat mengkonversi suhu ke fahrenheit. Tambahkan parameter untuk memastikan bahwa argumen yang dimasukan adalah celcius atau kelvin. Panggil function yang pertama jika diperlukan.\n",
    "3. Buatlah sebuah function yang dapat mengkonversi suhu dari fahrenheit. Berikan argumen untuk memastikan bahwa outputnya dalah celcius atau kelvin.\n",
    "4. Berikan dokumentasi pada setiap baris kode yang kalian tulis."
   ]
  },
  {
   "cell_type": "markdown",
   "metadata": {},
   "source": [
    "# Assignment Program\n",
    "\n",
    "## Konversi Suhu dari Kelvin ke Celcius dan Celcius ke Kelvin"
   ]
  },
  {
   "cell_type": "code",
   "execution_count": 9,
   "metadata": {},
   "outputs": [
    {
     "name": "stdout",
     "output_type": "stream",
     "text": [
      "Konversi suhu dari Kelvin ke Celcius\n",
      "100 K = -173.15 °C\n"
     ]
    }
   ],
   "source": [
    "## Konversi dari Kelvin ke Celcius\n",
    "\n",
    "print('Konversi suhu dari Kelvin ke Celcius')\n",
    "\n",
    "def K_to_C(suhu):\n",
    "    in_cel = suhu - 273.15  # Rumus konversi kelvin ke celcius\n",
    "    return(in_cel)  # Fungsi return agar fungsi ini dapat digunakan di fungsi lain\n",
    "\n",
    "# Memanggil function K_to_C dan memasukkan input nilai suhu yang ingin dikonversi\n",
    "K_to_C(100)\n",
    "print(suhu, 'K =', '%.2f' % K_to_C(suhu), '\\N{DEGREE SIGN}C')"
   ]
  },
  {
   "cell_type": "code",
   "execution_count": 10,
   "metadata": {},
   "outputs": [
    {
     "name": "stdout",
     "output_type": "stream",
     "text": [
      "Konversi suhu dari Celcius ke Kelvin\n",
      "100 °C = 373.15 K\n"
     ]
    }
   ],
   "source": [
    "## Konversi dari Celcius ke Kelvin\n",
    "\n",
    "print('Konversi suhu dari Celcius ke Kelvin')\n",
    "\n",
    "def C_to_K(suhu):\n",
    "    in_kel = suhu + 273.15  # Rumus konversi celcius ke kelvin\n",
    "    return(in_kel)\n",
    "\n",
    "# Memanggil function C_to_K\n",
    "# Memasukkan input nilai suhu yang ingin dikonversi\n",
    "C_to_K(100)\n",
    "print(suhu, '\\N{DEGREE SIGN}C =', '%.2f' % C_to_K(suhu), 'K')"
   ]
  },
  {
   "cell_type": "markdown",
   "metadata": {},
   "source": [
    "## Konversi Suhu ke Farenheit"
   ]
  },
  {
   "cell_type": "code",
   "execution_count": 11,
   "metadata": {},
   "outputs": [
    {
     "name": "stdout",
     "output_type": "stream",
     "text": [
      "Konversi suhu dari Celcius ke Farenheit\n",
      "100 °C = 212.00 °F\n",
      "\n",
      "Konversi Suhu dari Kelvin ke Farenheit\n",
      "100 K = -279.67 °F\n",
      "\n"
     ]
    }
   ],
   "source": [
    "## Konversi dari Celcius/Kelvin ke Farenheit\n",
    "\n",
    "def CK_to_F(suhu, C_or_K):\n",
    "    if C_or_K == 'C':\n",
    "        print('Konversi suhu dari Celcius ke Farenheit')\n",
    "        c_to_f = (suhu * 9/5) + 32  # Rumus konversi celcius ke farenheit\n",
    "        print(suhu, '\\N{DEGREE SIGN}C =', '%.2f' % c_to_f, '\\N{DEGREE SIGN}F')\n",
    "        print()\n",
    "    else:\n",
    "        print('Konversi Suhu dari Kelvin ke Farenheit')\n",
    "        k_to_f = K_to_C(suhu) * 9/5 + 32  # Rumus konversi kelvin ke celcius, menggunakan function K_to_C\n",
    "        print(suhu, 'K =', '%.2f' % k_to_f, '\\N{DEGREE SIGN}F')\n",
    "        print()\n",
    "        \n",
    "# Konversi Celcius ke Farenheit\n",
    "# Memanggil function CK_to_F\n",
    "# Memasukkan input suhu dan satuan\n",
    "CK_to_F(100, 'C')\n",
    "\n",
    "# Konversi Kelvin ke Farenheit\n",
    "CK_to_F(100, 'K')"
   ]
  },
  {
   "cell_type": "markdown",
   "metadata": {},
   "source": [
    "## Konversi Suhu dari Farenheit"
   ]
  },
  {
   "cell_type": "code",
   "execution_count": 14,
   "metadata": {},
   "outputs": [
    {
     "name": "stdout",
     "output_type": "stream",
     "text": [
      "Konversi suhu dari Farenheit ke Celcius\n",
      "100 °F = 37.78 °C\n",
      "\n",
      "Konversi suhu dari Farenheit ke Kelvin\n",
      "100 °F = 310.93 K\n",
      "\n"
     ]
    }
   ],
   "source": [
    "## Konversi dari Farenheit ke Celcius/Kelvin\n",
    "\n",
    "def F_to_CK(suhu, C_or_K):\n",
    "    if C_or_K == 'C':\n",
    "        print('Konversi suhu dari Farenheit ke Celcius')\n",
    "        f_to_c = (suhu - 32) * 5/9  # Rumus konversi farenheit ke celcius\n",
    "        print(suhu, '\\N{DEGREE SIGN}F =', '%.2f' % f_to_c, '\\N{DEGREE SIGN}C')\n",
    "        print()\n",
    "    else:\n",
    "        print('Konversi suhu dari Farenheit ke Kelvin')\n",
    "        f_to_k = (suhu - 32) * 5/9 + 273.15  # Rumus konversi farenheit ke kelvin\n",
    "        print(suhu, '\\N{DEGREE SIGN}F =', '%.2f' % f_to_k, 'K')\n",
    "        print()\n",
    "        \n",
    "# Farenheit ke Celcius\n",
    "# Memanggil function F_to_CK\n",
    "# Memasukkan input suhu dan satuan\n",
    "F_to_CK(100, 'C')\n",
    "\n",
    "# Farenheit ke Kelvin\n",
    "F_to_CK(100, 'K')"
   ]
  },
  {
   "cell_type": "code",
   "execution_count": null,
   "metadata": {},
   "outputs": [],
   "source": []
  }
 ],
 "metadata": {
  "kernelspec": {
   "display_name": "Python 3",
   "language": "python",
   "name": "python3"
  },
  "language_info": {
   "codemirror_mode": {
    "name": "ipython",
    "version": 3
   },
   "file_extension": ".py",
   "mimetype": "text/x-python",
   "name": "python",
   "nbconvert_exporter": "python",
   "pygments_lexer": "ipython3",
   "version": "3.8.3"
  }
 },
 "nbformat": 4,
 "nbformat_minor": 4
}
