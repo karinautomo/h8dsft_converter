{
 "cells": [
  {
   "cell_type": "markdown",
   "metadata": {},
   "source": [
    "# Non Graded Challenge 2"
   ]
  },
  {
   "cell_type": "markdown",
   "metadata": {},
   "source": [
    "Week 1 Day 3 - Function\n",
    "<br>\n",
    "Nama: Karina Utomo\n",
    "<br>\n",
    "Hacktiv8 Full Time Data Science Batch 003"
   ]
  },
  {
   "cell_type": "markdown",
   "metadata": {},
   "source": [
    "# Assignment Instructions"
   ]
  },
  {
   "cell_type": "markdown",
   "metadata": {},
   "source": [
    "1. Buatlah sebuah function yang dapat mengkonversi suhu dari kelvin ke celcius, dan celcius ke kelvin.\n",
    "2. Buatlah sebuah function yang dapat mengkonversi suhu ke fahrenheit. Tambahkan parameter untuk memastikan bahwa argumen yang dimasukan adalah celcius atau kelvin. Panggil function yang pertama jika diperlukan.\n",
    "3. Buatlah sebuah function yang dapat mengkonversi suhu dari fahrenheit. Berikan argumen untuk memastikan bahwa outputnya dalah celcius atau kelvin.\n",
    "4. Berikan dokumentasi pada setiap baris kode yang kalian tulis."
   ]
  },
  {
   "cell_type": "markdown",
   "metadata": {},
   "source": [
    "# Assignment Program"
   ]
  },
  {
   "cell_type": "markdown",
   "metadata": {},
   "source": [
    "## Konversi Suhu dari Kelvin ke Celcius dan Celcius ke Kelvin"
   ]
  },
  {
   "cell_type": "code",
   "execution_count": 4,
   "metadata": {},
   "outputs": [
    {
     "name": "stdout",
     "output_type": "stream",
     "text": [
      "Konversi suhu dari Kelvin ke Celcius\n",
      "Suhu dalam Kelvin: 100\n",
      "Suhu dalam Celcius: -173.15 °C\n"
     ]
    }
   ],
   "source": [
    "# Konversi dari Kelvin ke Celcius\n",
    "\n",
    "print('Konversi suhu dari Kelvin ke Celcius')\n",
    "suhu = float(input('Suhu dalam Kelvin: ')) # Input dari nilai suhu yang ingin dikonversi\n",
    "\n",
    "def K_to_C(suhu):\n",
    "    in_cel = suhu - 273.15 # Rumus konversi dari kelvin ke celcius\n",
    "    return (in_cel) # Fungsi return agar fungsi ini dapat digunakan di fungsi lain\n",
    "\n",
    "# Memanggil function K_to_C\n",
    "K_to_C(suhu)\n",
    "\n",
    "print('Suhu dalam Celcius:', '%.2f' % K_to_C(suhu), '\\N{DEGREE SIGN}C')"
   ]
  },
  {
   "cell_type": "code",
   "execution_count": 5,
   "metadata": {},
   "outputs": [
    {
     "name": "stdout",
     "output_type": "stream",
     "text": [
      "Konversi suhu dari Celcius ke Kelvin\n",
      "Suhu dalam Celcius: 45.5\n",
      "Suhu dalam Kelvin: 318.65 K\n"
     ]
    }
   ],
   "source": [
    "# Konversi dari Celcius ke Kelvin\n",
    "\n",
    "print('Konversi suhu dari Celcius ke Kelvin')\n",
    "suhu = float(input('Suhu dalam Celcius: ')) # Input dari nilai suhu yang ingin dikonversi\n",
    "\n",
    "def C_to_K(suhu):\n",
    "    in_kel = suhu + 273.15 # Rumus konversi dari celcius ke kelvin\n",
    "    return (in_kel)\n",
    "\n",
    "# Memanggil function C_to_K\n",
    "C_to_K(suhu)\n",
    "\n",
    "print('Suhu dalam Kelvin:', '%.2f' % C_to_K(suhu), 'K')"
   ]
  },
  {
   "cell_type": "markdown",
   "metadata": {},
   "source": [
    "## Konversi Suhu ke Farenheit"
   ]
  },
  {
   "cell_type": "code",
   "execution_count": 9,
   "metadata": {},
   "outputs": [
    {
     "name": "stdout",
     "output_type": "stream",
     "text": [
      "Konverter yang dapat digunakan: \n",
      "a. Celcius ke Farenheit\n",
      "b. Kelvin ke Farenheit\n",
      "Jenis konverter yang dipilih (a atau b): b\n",
      "\n",
      "Nilai suhu yang ingin dikonversi: 90\n",
      "\n",
      "Konversi suhu dari Kelvin ke Farenheit\n",
      "90.0 K = -297.67 °F\n"
     ]
    }
   ],
   "source": [
    "# Konversi dari Celcius/Kelvin ke Farenheit\n",
    "\n",
    "print('Konverter yang dapat digunakan: ') # Menampilkan opsi yang tersedia\n",
    "print('a. Celcius ke Farenheit')\n",
    "print('b. Kelvin ke Farenheit')\n",
    "\n",
    "convert = input('Jenis konverter yang dipilih (a atau b): ') # Input pilihan dari opsi\n",
    "print()\n",
    "    \n",
    "suhu = float(input('Nilai suhu yang ingin dikonversi: ')) # Input nilai dari suhu\n",
    "print()\n",
    "\n",
    "def CK_to_F(convert, suhu):\n",
    "    if convert == 'a':\n",
    "        print('Konversi suhu dari Celcius ke Farenheit')\n",
    "        c_to_f = (suhu * 9/5) + 32 # Rumus konversi dari celcius ke farenheit\n",
    "        print(suhu, '\\N{DEGREE SIGN}C =', '%.2f' % c_to_f, '\\N{DEGREE SIGN}F')\n",
    "    else:\n",
    "        print('Konversi suhu dari Kelvin ke Farenheit')\n",
    "        k_to_f = K_to_C(suhu) * 9/5 + 32 # Rumus konversi dari kelvin ke farenheit, menggunakan function K_to_C\n",
    "        print(suhu, 'K =', '%.2f' % k_to_f, '\\N{DEGREE SIGN}F')\n",
    "\n",
    "# Memanggil function CK_to_F\n",
    "CK_to_F(convert, suhu)"
   ]
  },
  {
   "cell_type": "markdown",
   "metadata": {},
   "source": [
    "## Konversi Suhu dari Farenheit"
   ]
  },
  {
   "cell_type": "code",
   "execution_count": 11,
   "metadata": {},
   "outputs": [
    {
     "name": "stdout",
     "output_type": "stream",
     "text": [
      "Konverter yang dapat digunakan: \n",
      "a. Farenheit ke Celcius\n",
      "b. Farenheit ke Kelvin\n",
      "Jenis konverter yang dipilih (a atau b): a\n",
      "\n",
      "Nilai suhu yang ingin dikonversi: 63\n",
      "\n",
      "Konversi suhu dari Farenheit ke Celcius\n",
      "63.0 °F = 17.22 °C\n"
     ]
    }
   ],
   "source": [
    "# Konversi dari Farenheit ke Celcius/Kelvin\n",
    "\n",
    "print('Konverter yang dapat digunakan: ') # Menampilkan opsi yang tersedia\n",
    "print('a. Farenheit ke Celcius')\n",
    "print('b. Farenheit ke Kelvin')\n",
    "\n",
    "convert = input('Jenis konverter yang dipilih (a atau b): ') # Input pilihan dari opsi\n",
    "print()\n",
    "    \n",
    "suhu = float(input('Nilai suhu yang ingin dikonversi: ')) # Input nilai dari suhu\n",
    "print()\n",
    "    \n",
    "def F_to_CK(convert, suhu):\n",
    "    if convert == 'a':\n",
    "        print('Konversi suhu dari Farenheit ke Celcius')\n",
    "        f_to_c = (suhu - 32) * 5/9 # Rumus konversi dari farenheit ke celcius\n",
    "        print(suhu, '\\N{DEGREE SIGN}F =', '%.2f' % f_to_c, '\\N{DEGREE SIGN}C')\n",
    "    else:\n",
    "        print('Konversi suhu dari Farenheit ke Kelvin')\n",
    "        f_to_k = (suhu - 32) * 5/9 + 273.15 # Rumus konversi dari farenheit ke kelvin\n",
    "        print(suhu, '\\N{DEGREE SIGN}F =', '%.2f' % f_to_k, 'K')\n",
    "\n",
    "# Memanggil function F_to_CK\n",
    "F_to_CK(convert, suhu)"
   ]
  }
 ],
 "metadata": {
  "kernelspec": {
   "display_name": "Python 3",
   "language": "python",
   "name": "python3"
  },
  "language_info": {
   "codemirror_mode": {
    "name": "ipython",
    "version": 3
   },
   "file_extension": ".py",
   "mimetype": "text/x-python",
   "name": "python",
   "nbconvert_exporter": "python",
   "pygments_lexer": "ipython3",
   "version": "3.8.3"
  }
 },
 "nbformat": 4,
 "nbformat_minor": 4
}
